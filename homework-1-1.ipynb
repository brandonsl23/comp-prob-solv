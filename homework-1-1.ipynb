{
 "cells": [
  {
   "cell_type": "code",
   "execution_count": 2,
   "id": "9ab48887-c7b4-47b4-b0b2-c0c1cc90fa4c",
   "metadata": {},
   "outputs": [
    {
     "ename": "ModuleNotFoundError",
     "evalue": "No module named 'pandas'",
     "output_type": "error",
     "traceback": [
      "\u001b[0;31m---------------------------------------------------------------------------\u001b[0m",
      "\u001b[0;31mModuleNotFoundError\u001b[0m                       Traceback (most recent call last)",
      "Cell \u001b[0;32mIn[2], line 1\u001b[0m\n\u001b[0;32m----> 1\u001b[0m \u001b[38;5;28;01mimport\u001b[39;00m \u001b[38;5;21;01mpandas\u001b[39;00m \u001b[38;5;28;01mas\u001b[39;00m \u001b[38;5;21;01mpd\u001b[39;00m\n\u001b[1;32m      2\u001b[0m \u001b[38;5;28;01mimport\u001b[39;00m \u001b[38;5;21;01mmatplotlib\u001b[39;00m\u001b[38;5;21;01m.\u001b[39;00m\u001b[38;5;21;01mpyplot\u001b[39;00m \u001b[38;5;28;01mas\u001b[39;00m \u001b[38;5;21;01mplt\u001b[39;00m\n\u001b[1;32m      3\u001b[0m \u001b[38;5;28;01mimport\u001b[39;00m \u001b[38;5;21;01mnumpy\u001b[39;00m \u001b[38;5;28;01mas\u001b[39;00m \u001b[38;5;21;01mnp\u001b[39;00m\n",
      "\u001b[0;31mModuleNotFoundError\u001b[0m: No module named 'pandas'"
     ]
    }
   ],
   "source": [
    "import pandas as pd\n",
    "import matplotlib.pyplot as plt\n",
    "import numpy as np"
   ]
  },
  {
   "cell_type": "code",
   "execution_count": null,
   "id": "d836f3c6-ea3f-462d-b2d0-bf35939c4659",
   "metadata": {},
   "outputs": [
    {
     "data": {
      "text/html": [
       "<div>\n",
       "<style scoped>\n",
       "    .dataframe tbody tr th:only-of-type {\n",
       "        vertical-align: middle;\n",
       "    }\n",
       "\n",
       "    .dataframe tbody tr th {\n",
       "        vertical-align: top;\n",
       "    }\n",
       "\n",
       "    .dataframe thead th {\n",
       "        text-align: right;\n",
       "    }\n",
       "</style>\n",
       "<table border=\"1\" class=\"dataframe\">\n",
       "  <thead>\n",
       "    <tr style=\"text-align: right;\">\n",
       "      <th></th>\n",
       "      <th>Volume</th>\n",
       "      <th>Pressure</th>\n",
       "    </tr>\n",
       "  </thead>\n",
       "  <tbody>\n",
       "    <tr>\n",
       "      <th>0</th>\n",
       "      <td>48</td>\n",
       "      <td>29.1250</td>\n",
       "    </tr>\n",
       "    <tr>\n",
       "      <th>1</th>\n",
       "      <td>46</td>\n",
       "      <td>30.5625</td>\n",
       "    </tr>\n",
       "    <tr>\n",
       "      <th>2</th>\n",
       "      <td>44</td>\n",
       "      <td>31.9375</td>\n",
       "    </tr>\n",
       "    <tr>\n",
       "      <th>3</th>\n",
       "      <td>42</td>\n",
       "      <td>33.5000</td>\n",
       "    </tr>\n",
       "    <tr>\n",
       "      <th>4</th>\n",
       "      <td>40</td>\n",
       "      <td>35.3125</td>\n",
       "    </tr>\n",
       "  </tbody>\n",
       "</table>\n",
       "</div>"
      ],
      "text/plain": [
       "   Volume  Pressure\n",
       "0      48   29.1250\n",
       "1      46   30.5625\n",
       "2      44   31.9375\n",
       "3      42   33.5000\n",
       "4      40   35.3125"
      ]
     },
     "execution_count": 356,
     "metadata": {},
     "output_type": "execute_result"
    }
   ],
   "source": [
    "df = pd.read_csv('volume_pressure_data.csv')\n",
    "df.head()"
   ]
  },
  {
   "cell_type": "code",
   "execution_count": null,
   "id": "c95707dd-1714-4f5e-a60b-59ca2be3fbb8",
   "metadata": {},
   "outputs": [],
   "source": [
    "#calculation and inputing the Volume and Pressures mean, median, and STD into the Data Frame \n",
    "df['Volume Mean'] = df['Volume'].mean()\n",
    "df['Volume Median'] = df['Volume'].median()\n",
    "df['Volume Standard Deviation'] = df['Volume'].std()\n",
    "\n",
    "\n",
    "df['Pressure Mean'] = df['Pressure'].mean()\n",
    "df['Pressure Median'] = df['Pressure'].median()\n",
    "df['Pressure Standard Deviation'] = df['Pressure'].std()\n"
   ]
  },
  {
   "cell_type": "code",
   "execution_count": null,
   "id": "28c8a80e-8e4b-435e-89fd-34ae46e4294d",
   "metadata": {},
   "outputs": [
    {
     "data": {
      "text/html": [
       "<div>\n",
       "<style scoped>\n",
       "    .dataframe tbody tr th:only-of-type {\n",
       "        vertical-align: middle;\n",
       "    }\n",
       "\n",
       "    .dataframe tbody tr th {\n",
       "        vertical-align: top;\n",
       "    }\n",
       "\n",
       "    .dataframe thead th {\n",
       "        text-align: right;\n",
       "    }\n",
       "</style>\n",
       "<table border=\"1\" class=\"dataframe\">\n",
       "  <thead>\n",
       "    <tr style=\"text-align: right;\">\n",
       "      <th></th>\n",
       "      <th>Volume</th>\n",
       "      <th>Pressure</th>\n",
       "      <th>Volume Mean</th>\n",
       "      <th>Volume Median</th>\n",
       "      <th>Volume Standard Deviation</th>\n",
       "      <th>Pressure Mean</th>\n",
       "      <th>Pressure Median</th>\n",
       "      <th>Pressure Standard Deviation</th>\n",
       "    </tr>\n",
       "  </thead>\n",
       "  <tbody>\n",
       "    <tr>\n",
       "      <th>0</th>\n",
       "      <td>48</td>\n",
       "      <td>29.1250</td>\n",
       "      <td>27.12</td>\n",
       "      <td>24.0</td>\n",
       "      <td>11.192706</td>\n",
       "      <td>61.5075</td>\n",
       "      <td>58.8125</td>\n",
       "      <td>25.840546</td>\n",
       "    </tr>\n",
       "    <tr>\n",
       "      <th>1</th>\n",
       "      <td>46</td>\n",
       "      <td>30.5625</td>\n",
       "      <td>27.12</td>\n",
       "      <td>24.0</td>\n",
       "      <td>11.192706</td>\n",
       "      <td>61.5075</td>\n",
       "      <td>58.8125</td>\n",
       "      <td>25.840546</td>\n",
       "    </tr>\n",
       "    <tr>\n",
       "      <th>2</th>\n",
       "      <td>44</td>\n",
       "      <td>31.9375</td>\n",
       "      <td>27.12</td>\n",
       "      <td>24.0</td>\n",
       "      <td>11.192706</td>\n",
       "      <td>61.5075</td>\n",
       "      <td>58.8125</td>\n",
       "      <td>25.840546</td>\n",
       "    </tr>\n",
       "    <tr>\n",
       "      <th>3</th>\n",
       "      <td>42</td>\n",
       "      <td>33.5000</td>\n",
       "      <td>27.12</td>\n",
       "      <td>24.0</td>\n",
       "      <td>11.192706</td>\n",
       "      <td>61.5075</td>\n",
       "      <td>58.8125</td>\n",
       "      <td>25.840546</td>\n",
       "    </tr>\n",
       "    <tr>\n",
       "      <th>4</th>\n",
       "      <td>40</td>\n",
       "      <td>35.3125</td>\n",
       "      <td>27.12</td>\n",
       "      <td>24.0</td>\n",
       "      <td>11.192706</td>\n",
       "      <td>61.5075</td>\n",
       "      <td>58.8125</td>\n",
       "      <td>25.840546</td>\n",
       "    </tr>\n",
       "  </tbody>\n",
       "</table>\n",
       "</div>"
      ],
      "text/plain": [
       "   Volume  Pressure  Volume Mean  Volume Median  Volume Standard Deviation  \\\n",
       "0      48   29.1250        27.12           24.0                  11.192706   \n",
       "1      46   30.5625        27.12           24.0                  11.192706   \n",
       "2      44   31.9375        27.12           24.0                  11.192706   \n",
       "3      42   33.5000        27.12           24.0                  11.192706   \n",
       "4      40   35.3125        27.12           24.0                  11.192706   \n",
       "\n",
       "   Pressure Mean  Pressure Median  Pressure Standard Deviation  \n",
       "0        61.5075          58.8125                    25.840546  \n",
       "1        61.5075          58.8125                    25.840546  \n",
       "2        61.5075          58.8125                    25.840546  \n",
       "3        61.5075          58.8125                    25.840546  \n",
       "4        61.5075          58.8125                    25.840546  "
      ]
     },
     "execution_count": 358,
     "metadata": {},
     "output_type": "execute_result"
    }
   ],
   "source": [
    "df.head()\n"
   ]
  },
  {
   "cell_type": "code",
   "execution_count": null,
   "id": "4434da71-f44f-4407-a46e-464b21c3fe6d",
   "metadata": {},
   "outputs": [
    {
     "data": {
      "image/png": "[encoded data removed]",
      "text/plain": [
       "<Figure size 640x480 with 1 Axes>"
      ]
     },
     "metadata": {},
     "output_type": "display_data"
    }
   ],
   "source": [
    "#finding polyfit line \n",
    "x2 = np.linspace(start=min(df['Volume']), stop=max(df['Volume']), num=25)\n",
    "coeff = np.polyfit(df['Volume'], df['Pressure'],deg=2)\n",
    "y = lambda x : coeff[0]*x**2 +coeff[1]*x + coeff[2] # lambda here acts like def function, just works inline!\n",
    "\n",
    "\n",
    "#graph showing relation between volume and pressure \n",
    "plt.plot(df['Volume'], df['Pressure'],'o', label= 'data')\n",
    "plt.plot(x2, y(x2), color= 'C2', label= 'line of fit')\n",
    "\n",
    "plt.xlabel('$Volume$')\n",
    "plt.ylabel('$Pressure$') \n",
    "plt.title('$Volume$ $vs$ $Pressure$')\n",
    "plt.grid(True)\n",
    "plt.legend()\n",
    "plt.show()"
   ]
  },
  {
   "cell_type": "code",
   "execution_count": null,
   "id": "05609188-c427-4881-a2ed-fceee04d4b79",
   "metadata": {},
   "outputs": [],
   "source": [
    "#equation for poly fit line\n",
    "def equation (x):\n",
    "    y1 = coeff[0]*x**2 +coeff[1]*x + coeff[2]\n",
    "    \"\"\"\n",
    "    Finding the y coordinate using fitted plot given x.\n",
    "\n",
    "    Parameters:\n",
    "    x (float): x-coordinate.\n",
    "\n",
    "    Returns:\n",
    "    float: y-coordinate.\n",
    "    \"\"\"\n",
    "    return y1\n",
    "#this equation is y = 8.11467652e-02 x^2 - 6.93261665 x + 1.80077908e+02\n",
    "\n",
    "# This equation fits closely with the graph but does not fully describe the relationship between volume and pressure. According to \n",
    "#Boyles Law, volume and pressures are inversly proportional and the equation shown above is quadratic."
   ]
  },
  {
   "cell_type": "code",
   "execution_count": null,
   "id": "a9adb609-b719-4004-aa6a-451595234643",
   "metadata": {},
   "outputs": [],
   "source": [
    "# Calculate the root mean square error (RMSE) between the fitted polynomial curve and the actual\n",
    "#data points. Use NumPy for this calculation.\n",
    "#Report the RMSE value and briefly discuss whether the polynomial fit represents the data well"
   ]
  },
  {
   "cell_type": "code",
   "execution_count": null,
   "id": "0bc82c7f-48f1-4388-bd4f-02ed932c1e20",
   "metadata": {},
   "outputs": [
    {
     "data": {
      "text/plain": [
       "2.5118955976611944e-07"
      ]
     },
     "execution_count": 404,
     "metadata": {},
     "output_type": "execute_result"
    }
   ],
   "source": [
    "#finding the RMSE between the fitted polynomial curve and the actual data points.  \n",
    "polyCalcPressure = [equation(x)for x in df[\"Volume\"]] \n",
    "def RMSE (predicted, actual):\n",
    "   \n",
    "    squared_errors = [(p-a) for p,a in zip(predicted, actual)]\n",
    "    mean_squared = np.mean(squared_errors)\n",
    "\n",
    "    \"\"\"\n",
    "    Finds Root Mean Square Error given two lists.\n",
    "\n",
    "    Parameters:\n",
    "    predicted (list): list containing predicted data points\n",
    "    actual (list): list containg all of the actual data points\n",
    "\n",
    "    Returns:\n",
    "    float: Root Mean Square Error\n",
    "    \"\"\"\n",
    "    \n",
    "    return np.sqrt(mean_squared)\n",
    "    \n",
    "RMSE(polyCalcPressure, df[\"Pressure\"] )  \n",
    "\n",
    "# The root mean square error between the fitted polynomial curve and the actual data points is 2.5118955976611944e-07. \n",
    "# RMSE ranges from 0 to infinity, where the close the value is to 0, the better fit the predict to the actual data points. Since the RMSE \n",
    "# value is pretty close to 0, it suggests that there is a strong fit between the polynomial to the data. However, there can still be room for \n",
    "# improvemnent as Boyles suggests that there is an inversely proportional relationship. "
   ]
  },
  {
   "cell_type": "code",
   "execution_count": null,
   "id": "f4085998-c556-4c3e-9699-7100e26924a7",
   "metadata": {},
   "outputs": [],
   "source": []
  }
 ],
 "metadata": {
  "kernelspec": {
   "display_name": "Python 3 (ipykernel)",
   "language": "python",
   "name": "python3"
  },
  "language_info": {
   "codemirror_mode": {
    "name": "ipython",
    "version": 3
   },
   "file_extension": ".py",
   "mimetype": "text/x-python",
   "name": "python",
   "nbconvert_exporter": "python",
   "pygments_lexer": "ipython3",
   "version": "3.9.6"
  }
 },
 "nbformat": 4,
 "nbformat_minor": 5
}
