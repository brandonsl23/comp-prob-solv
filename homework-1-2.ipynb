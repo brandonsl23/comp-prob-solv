{
 "cells": [
  {
   "cell_type": "code",
   "execution_count": 1,
   "id": "480746e9-6f73-4428-adbb-f9300b79ac92",
   "metadata": {},
   "outputs": [],
   "source": [
    "import pandas as pd\n",
    "import matplotlib.pyplot as plt\n",
    "import numpy as np"
   ]
  },
  {
   "cell_type": "code",
   "execution_count": 2,
   "id": "8a625c81-f27a-4685-8408-ee1e7ed6e2fa",
   "metadata": {},
   "outputs": [
    {
     "name": "stdout",
     "output_type": "stream",
     "text": [
      "Cartesian coordinates of Hydrogen:  {'H1': [0.0, 0.0, 0.0], 'H2': [0.0, 0.0, 0.7414]}\n",
      "\n",
      "Cartesian coordinates of Water:  {'O1': [0.0, 0.0, 0.1173], 'H2': [0.0, 0.7572, -0.4692], 'H3': [0.0, -0.7572, -0.4692]}\n",
      "\n",
      "Cartesian coordinates of Benzene:  {'C1': [0.0, 1.397, 0.0], 'C2': [1.2098, 0.6985, 0.0], 'C3': [1.2098, -0.6985, 0.0], 'C4': [0.0, -1.397, 0.0], 'C5': [-1.2098, -0.6985, 0.0], 'C6': [-1.2098, 0.6985, 0.0], 'H7': [0.0, 2.481, 0.0], 'H8': [2.1486, 1.2405, 0.0], 'H9': [2.1486, -1.2405, 0.0], 'H10': [0.0, -2.481, 0.0], 'H11': [-2.1486, -1.2405, 0.0], 'H12': [-2.1486, 1.2405, 0.0]}\n"
     ]
    }
   ],
   "source": [
    "# Collect the Cartesian coordinates of H2, H2O, and benzene from the CCCBDB website\n",
    "#H2\n",
    "Hydrogen ={\n",
    "    \"H1\"  : [0.0000,0.0000,\t0.0000], \n",
    "    \"H2\" : [0.0000,\t0.0000,\t0.7414]\n",
    "}\n",
    "Water = {\n",
    "    \"O1\":\t[0.0000, 0.0000, 0.1173],\n",
    "    \"H2\":\t[0.0000, 0.7572, -0.4692],\n",
    "    \"H3\":\t[0.0000, -0.7572,-0.4692]\n",
    "}\n",
    "Benzene = {\n",
    "    \"C1\":[0.0000 ,1.3970, 0.0000],\n",
    "    \"C2\": [1.2098, 0.6985, 0.0000],\n",
    "    \"C3\": [1.2098, -0.6985, 0.0000],\n",
    "    \"C4\": [0.0000, -1.3970, 0.0000],\n",
    "    \"C5\": [-1.2098, -0.6985, 0.0000],\n",
    "    \"C6\": [-1.2098,\t0.6985, 0.0000],\n",
    "    \"H7\": [0.0000, 2.4810, 0.0000],\n",
    "    \"H8\": [2.1486, 1.2405, 0.0000],\n",
    "    \"H9\": [2.1486, -1.2405, 0.0000],\n",
    "    \"H10\": [0.0000, -2.4810, 0.0000],\n",
    "    \"H11\": [-2.1486, -1.2405, 0.0000],\n",
    "    \"H12\": [-2.1486, 1.2405, 0.0000]\n",
    "}\n",
    "\n",
    "print(\"Cartesian coordinates of Hydrogen: \", Hydrogen) \n",
    "print()\n",
    "print(\"Cartesian coordinates of Water: \", Water)\n",
    "print()\n",
    "print(\"Cartesian coordinates of Benzene: \", Benzene)"
   ]
  },
  {
   "cell_type": "code",
   "execution_count": 3,
   "id": "3234ec41-9ff3-44cc-ab9d-1591789f1237",
   "metadata": {},
   "outputs": [],
   "source": [
    "def compute_bond_length(coord1, coord2):\n",
    "    \"\"\"\n",
    "    Computes bond length given two lists that contain x,y, and z coordinates.\n",
    "\n",
    "    Parameters:\n",
    "    coord1 (list): list containing x,y, and z coordinates for an atom \n",
    "    coord2 (list): list containing x,y, and z coordinates for an atom \n",
    "\n",
    "    Returns:\n",
    "    float: bond length in Angstroms\n",
    "    \"\"\"\n",
    "    x1, y1, z1 = coord1\n",
    "    x2, y2, z2 = coord2\n",
    "    d = np.sqrt((x2-x1)**2+(y2-y1)**2+(z2-z1)**2)\n",
    "    if d > 2: \n",
    "        print(\"WARNING: The length between these two atoms is too long\")\n",
    "    print(f\"The bond length between {coord1} and {coord2} is {d} Å\")\n",
    "    return d"
   ]
  },
  {
   "cell_type": "code",
   "execution_count": 4,
   "id": "85bf0920-6865-4da3-a4ae-fea245ca0774",
   "metadata": {},
   "outputs": [
    {
     "name": "stdout",
     "output_type": "stream",
     "text": [
      "The bond length between [0.0, 1.397, 0.0] and [1.2098, 0.6985, 0.0] is 1.3969675336241714 Å\n"
     ]
    },
    {
     "data": {
      "text/plain": [
       "1.3969675336241714"
      ]
     },
     "execution_count": 4,
     "metadata": {},
     "output_type": "execute_result"
    }
   ],
   "source": [
    "##This is just to test!\n",
    "compute_bond_length(Benzene[\"C1\"], Benzene[\"C2\"])"
   ]
  },
  {
   "cell_type": "code",
   "execution_count": 5,
   "id": "0b6dced1-1403-42c2-90dd-9e3ed5762030",
   "metadata": {},
   "outputs": [
    {
     "name": "stdout",
     "output_type": "stream",
     "text": [
      "The bond length between [0.0, 1.397, 0.0] and [1.2098, 0.6985, 0.0] is 1.3969675336241714 Å\n"
     ]
    },
    {
     "data": {
      "text/plain": [
       "numpy.float64"
      ]
     },
     "execution_count": 5,
     "metadata": {},
     "output_type": "execute_result"
    }
   ],
   "source": [
    "type(compute_bond_length(Benzene[\"C1\"], Benzene[\"C2\"]))"
   ]
  },
  {
   "cell_type": "code",
   "execution_count": 6,
   "id": "1a9ab3b8-a9a3-47db-9de2-462f3f16da1e",
   "metadata": {},
   "outputs": [],
   "source": [
    "def compute_bond_angle(coord1, coord2, coord3):\n",
    "    \"\"\"\n",
    "    Computes bond angle given 3 lists that each contain x,y, and z coordinates.\n",
    "\n",
    "    Parameters:\n",
    "    coord1 (list): list containing x,y, and z coordinates for the first atom \n",
    "    coord2 (list): list containing x,y, and z coordinates for the second atom\n",
    "    coord3 (list): list containing x,y, and z coordinates for the third atom\n",
    "\n",
    "    Returns:\n",
    "    float: bond angle in degrees \n",
    "    \"\"\"\n",
    "    A = np.array(coord1)\n",
    "    B = np.array(coord2)\n",
    "    C = np.array(coord3)\n",
    "\n",
    "    #findng vectors\n",
    "    AB = A-B\n",
    "    BC = C-B\n",
    "    #magnitudes of vectors \n",
    "    AB_mag = np.linalg.norm(AB)\n",
    "    BC_mag = np.linalg.norm(BC)\n",
    "\n",
    "    #finding dot products \n",
    "    dot_product = np.dot(AB,BC)\n",
    "    cos_theta = dot_product /(AB_mag*BC_mag)\n",
    "    angle_degrees = np.degrees(np.arccos(cos_theta))\n",
    "\n",
    "    if angle_degrees < 90:\n",
    "        classification = \"Acute\"\n",
    "    elif angle_degrees == 90:\n",
    "        classification = \"Right\"\n",
    "    else:\n",
    "        classification = \"Obtuse\"\n",
    "\n",
    "    print(f\"The bond angle between {coord1}, {coord2}, {coord3} is {angle_degrees} degrees, classified as {classification}.\") #print type of angle\n",
    "    \n",
    "    return angle_degrees"
   ]
  },
  {
   "cell_type": "code",
   "execution_count": 7,
   "id": "2c5f0a1a-2762-4df4-b935-9482b1201569",
   "metadata": {},
   "outputs": [
    {
     "name": "stdout",
     "output_type": "stream",
     "text": [
      "The bond angle between [0.0, 0.0, 0.1173], [0.0, 0.7572, -0.4692], [0.0, -0.7572, -0.4692] is 37.76008059081679 degrees, classified as Acute.\n"
     ]
    },
    {
     "data": {
      "text/plain": [
       "37.76008059081679"
      ]
     },
     "execution_count": 7,
     "metadata": {},
     "output_type": "execute_result"
    }
   ],
   "source": [
    "#Testt!\n",
    "compute_bond_angle(Water[\"O1\"],Water[\"H2\"],Water[\"H3\"])"
   ]
  },
  {
   "cell_type": "code",
   "execution_count": 8,
   "id": "84483749-feb0-4ac7-8456-d0a6f6302bbc",
   "metadata": {},
   "outputs": [
    {
     "name": "stdout",
     "output_type": "stream",
     "text": [
      "The bond angle between [0.0, 0.0, 0.1173], [0.0, 0.7572, -0.4692], [0.0, -0.7572, -0.4692] is 37.76008059081679 degrees, classified as Acute.\n"
     ]
    },
    {
     "data": {
      "text/plain": [
       "numpy.float64"
      ]
     },
     "execution_count": 8,
     "metadata": {},
     "output_type": "execute_result"
    }
   ],
   "source": [
    "type(compute_bond_angle(Water[\"O1\"],Water[\"H2\"],Water[\"H3\"]))"
   ]
  },
  {
   "cell_type": "code",
   "execution_count": 9,
   "id": "5117342b-5e24-4b69-982d-0f18cd506a29",
   "metadata": {},
   "outputs": [],
   "source": [
    "def calculate_all_bond_lengths(molecule):\n",
    "    \"\"\"\n",
    "    Computes all of the bond lengths given a molcule .\n",
    "\n",
    "    Parameters:\n",
    "    molecule (dic): Dictionary where keys are atom labels and values are lists of Cartesian coordinates (x,y,z) \n",
    "    \n",
    "    Returns:\n",
    "    list: contains atom pair and it's bond length\n",
    "    \"\"\"\n",
    "    bond_lengths = []\n",
    "    atoms = list(molecule.keys())\n",
    "    for atom1 in molecule: \n",
    "        coord1 = molecule[atom1]\n",
    "        for atom2 in molecule:\n",
    "            if atom1 != atom2 and atom1 < atom2:  \n",
    "                coord2 = molecule[atom2]\n",
    "                bond_length = compute_bond_length(coord1, coord2)\n",
    "                bond_lengths.append((atom1, atom2, bond_length))\n",
    "               \n",
    "    print()#this is just for spacing as compute_bond_length returns some strings!\n",
    "    for bond in bond_lengths:\n",
    "        atom1, atom2, length = bond\n",
    "        print(f\"Bond length between {atom1} and {atom2}: {length} Å\")  \n",
    "    \n",
    "    return bond_lengths"
   ]
  },
  {
   "cell_type": "code",
   "execution_count": 10,
   "id": "cbc2df75-7f54-4fd7-a70b-bccdf5b10d9e",
   "metadata": {},
   "outputs": [
    {
     "name": "stdout",
     "output_type": "stream",
     "text": [
      "The bond length between [0.0, 0.7572, -0.4692] and [0.0, 0.0, 0.1173] is 0.9577755948028744 Å\n",
      "The bond length between [0.0, 0.7572, -0.4692] and [0.0, -0.7572, -0.4692] is 1.5144 Å\n",
      "The bond length between [0.0, -0.7572, -0.4692] and [0.0, 0.0, 0.1173] is 0.9577755948028744 Å\n",
      "\n",
      "Bond length between H2 and O1: 0.9577755948028744 Å\n",
      "Bond length between H2 and H3: 1.5144 Å\n",
      "Bond length between H3 and O1: 0.9577755948028744 Å\n"
     ]
    },
    {
     "data": {
      "text/plain": [
       "[('H2', 'O1', 0.9577755948028744),\n",
       " ('H2', 'H3', 1.5144),\n",
       " ('H3', 'O1', 0.9577755948028744)]"
      ]
     },
     "execution_count": 10,
     "metadata": {},
     "output_type": "execute_result"
    }
   ],
   "source": [
    "#Test!!\n",
    "calculate_all_bond_lengths(Water)"
   ]
  },
  {
   "cell_type": "code",
   "execution_count": 11,
   "id": "5ef15c43-91c0-405e-be69-3cd44916b7fa",
   "metadata": {},
   "outputs": [
    {
     "name": "stdout",
     "output_type": "stream",
     "text": [
      "The bond length between [0.0, 0.7572, -0.4692] and [0.0, 0.0, 0.1173] is 0.9577755948028744 Å\n",
      "The bond length between [0.0, 0.7572, -0.4692] and [0.0, -0.7572, -0.4692] is 1.5144 Å\n",
      "The bond length between [0.0, -0.7572, -0.4692] and [0.0, 0.0, 0.1173] is 0.9577755948028744 Å\n",
      "\n",
      "Bond length between H2 and O1: 0.9577755948028744 Å\n",
      "Bond length between H2 and H3: 1.5144 Å\n",
      "Bond length between H3 and O1: 0.9577755948028744 Å\n"
     ]
    },
    {
     "data": {
      "text/plain": [
       "list"
      ]
     },
     "execution_count": 11,
     "metadata": {},
     "output_type": "execute_result"
    }
   ],
   "source": [
    "type(calculate_all_bond_lengths(Water))"
   ]
  },
  {
   "cell_type": "code",
   "execution_count": 12,
   "id": "b984bc7e-5902-487e-bc9a-a13ee7b045aa",
   "metadata": {},
   "outputs": [],
   "source": [
    "def calculate_all_bond_angles(molecule):\n",
    "    \"\"\"\n",
    "    Computes all of the bond angles given a molecule .\n",
    "\n",
    "    Parameters:\n",
    "    molecule (dic): Dictionary where keys are atom labels and values are lists of Cartesian coordinates (x,y,z) \n",
    "    \n",
    "    Returns:\n",
    "    list: Contains atom pair and it's bond length\n",
    "    \"\"\"\n",
    "    bond_angles = []\n",
    "    \n",
    "    atoms = list(molecule.keys())\n",
    "    \n",
    "    for i in range(len(atoms)):\n",
    "        for j in range(len(atoms)):\n",
    "            if i == j:\n",
    "                continue\n",
    "            for k in range(len(atoms)):\n",
    "                if i == k or j == k:\n",
    "                    continue\n",
    "                atom1 = atoms[i]\n",
    "                atom2 = atoms[j]  \n",
    "                atom3 = atoms[k]\n",
    "                \n",
    "                coord1 = molecule[atom1]\n",
    "                coord2 = molecule[atom2]\n",
    "                coord3 = molecule[atom3]\n",
    "                \n",
    "                bond_angle = compute_bond_angle(coord1, coord2, coord3)\n",
    "                bond_angles.append((atom1, atom2, atom3, bond_angle))\n",
    "    \n",
    "    print() #this is just for spacing as compute_bond_angle returns some strings!\n",
    "    for angle in bond_angles:\n",
    "        atom1, atom2, atom3, bond_angle = angle\n",
    "        print(f\"The bond angle between {atom1}, {atom2}, and {atom3} is {bond_angle}°\")\n",
    "    \n",
    "    return bond_angles"
   ]
  },
  {
   "cell_type": "code",
   "execution_count": 13,
   "id": "708700ee-82be-4eae-be89-8d337c9e0769",
   "metadata": {},
   "outputs": [
    {
     "name": "stdout",
     "output_type": "stream",
     "text": [
      "The bond angle between [0.0, 0.0, 0.1173], [0.0, 0.7572, -0.4692], [0.0, -0.7572, -0.4692] is 37.76008059081679 degrees, classified as Acute.\n",
      "The bond angle between [0.0, 0.0, 0.1173], [0.0, -0.7572, -0.4692], [0.0, 0.7572, -0.4692] is 37.76008059081679 degrees, classified as Acute.\n",
      "The bond angle between [0.0, 0.7572, -0.4692], [0.0, 0.0, 0.1173], [0.0, -0.7572, -0.4692] is 104.47983881836642 degrees, classified as Obtuse.\n",
      "The bond angle between [0.0, 0.7572, -0.4692], [0.0, -0.7572, -0.4692], [0.0, 0.0, 0.1173] is 37.76008059081679 degrees, classified as Acute.\n",
      "The bond angle between [0.0, -0.7572, -0.4692], [0.0, 0.0, 0.1173], [0.0, 0.7572, -0.4692] is 104.47983881836642 degrees, classified as Obtuse.\n",
      "The bond angle between [0.0, -0.7572, -0.4692], [0.0, 0.7572, -0.4692], [0.0, 0.0, 0.1173] is 37.76008059081679 degrees, classified as Acute.\n",
      "\n",
      "The bond angle between O1, H2, and H3 is 37.76008059081679°\n",
      "The bond angle between O1, H3, and H2 is 37.76008059081679°\n",
      "The bond angle between H2, O1, and H3 is 104.47983881836642°\n",
      "The bond angle between H2, H3, and O1 is 37.76008059081679°\n",
      "The bond angle between H3, O1, and H2 is 104.47983881836642°\n",
      "The bond angle between H3, H2, and O1 is 37.76008059081679°\n"
     ]
    },
    {
     "data": {
      "text/plain": [
       "[('O1', 'H2', 'H3', 37.76008059081679),\n",
       " ('O1', 'H3', 'H2', 37.76008059081679),\n",
       " ('H2', 'O1', 'H3', 104.47983881836642),\n",
       " ('H2', 'H3', 'O1', 37.76008059081679),\n",
       " ('H3', 'O1', 'H2', 104.47983881836642),\n",
       " ('H3', 'H2', 'O1', 37.76008059081679)]"
      ]
     },
     "execution_count": 13,
     "metadata": {},
     "output_type": "execute_result"
    }
   ],
   "source": [
    "calculate_all_bond_angles(Water)"
   ]
  },
  {
   "cell_type": "code",
   "execution_count": 14,
   "id": "1d9f5c8b-76bf-486c-837d-3924b2f27b6d",
   "metadata": {},
   "outputs": [
    {
     "name": "stdout",
     "output_type": "stream",
     "text": [
      "The bond angle between [0.0, 0.0, 0.1173], [0.0, 0.7572, -0.4692], [0.0, -0.7572, -0.4692] is 37.76008059081679 degrees, classified as Acute.\n",
      "The bond angle between [0.0, 0.0, 0.1173], [0.0, -0.7572, -0.4692], [0.0, 0.7572, -0.4692] is 37.76008059081679 degrees, classified as Acute.\n",
      "The bond angle between [0.0, 0.7572, -0.4692], [0.0, 0.0, 0.1173], [0.0, -0.7572, -0.4692] is 104.47983881836642 degrees, classified as Obtuse.\n",
      "The bond angle between [0.0, 0.7572, -0.4692], [0.0, -0.7572, -0.4692], [0.0, 0.0, 0.1173] is 37.76008059081679 degrees, classified as Acute.\n",
      "The bond angle between [0.0, -0.7572, -0.4692], [0.0, 0.0, 0.1173], [0.0, 0.7572, -0.4692] is 104.47983881836642 degrees, classified as Obtuse.\n",
      "The bond angle between [0.0, -0.7572, -0.4692], [0.0, 0.7572, -0.4692], [0.0, 0.0, 0.1173] is 37.76008059081679 degrees, classified as Acute.\n",
      "\n",
      "The bond angle between O1, H2, and H3 is 37.76008059081679°\n",
      "The bond angle between O1, H3, and H2 is 37.76008059081679°\n",
      "The bond angle between H2, O1, and H3 is 104.47983881836642°\n",
      "The bond angle between H2, H3, and O1 is 37.76008059081679°\n",
      "The bond angle between H3, O1, and H2 is 104.47983881836642°\n",
      "The bond angle between H3, H2, and O1 is 37.76008059081679°\n"
     ]
    },
    {
     "data": {
      "text/plain": [
       "list"
      ]
     },
     "execution_count": 14,
     "metadata": {},
     "output_type": "execute_result"
    }
   ],
   "source": [
    "type(calculate_all_bond_angles(Water))"
   ]
  }
 ],
 "metadata": {
  "kernelspec": {
   "display_name": "Python 3 (ipykernel)",
   "language": "python",
   "name": "python3"
  },
  "language_info": {
   "codemirror_mode": {
    "name": "ipython",
    "version": 3
   },
   "file_extension": ".py",
   "mimetype": "text/x-python",
   "name": "python",
   "nbconvert_exporter": "python",
   "pygments_lexer": "ipython3",
   "version": "3.11.5"
  }
 },
 "nbformat": 4,
 "nbformat_minor": 5
}
